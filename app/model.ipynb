{
 "cells": [
  {
   "cell_type": "code",
   "execution_count": 1,
   "metadata": {},
   "outputs": [
    {
     "name": "stdout",
     "output_type": "stream",
     "text": [
      "True\n",
      "NVIDIA GeForce MX330\n"
     ]
    }
   ],
   "source": [
    "import torch\n",
    "\n",
    "print(torch.cuda.is_available())  \n",
    "print(torch.cuda.get_device_name(0))"
   ]
  },
  {
   "cell_type": "code",
   "execution_count": 2,
   "metadata": {},
   "outputs": [
    {
     "name": "stdout",
     "output_type": "stream",
     "text": [
      "Writing hello_world.cu\n"
     ]
    }
   ],
   "source": [
    "%%writefile hello_world.cu\n",
    "#include <iostream>\n",
    "#include <cuda_runtime.h>\n",
    "\n",
    "__global__ void helloWorldKernel() {\n",
    "    printf(\"Hello, World from the GPU!\\n\");\n",
    "}\n",
    "\n",
    "int main() {\n",
    "    // Launch the kernel with 1 block and 1 thread\n",
    "    helloWorldKernel<<<1, 1>>>();\n",
    "\n",
    "    // Wait for the GPU to finish\n",
    "    cudaDeviceSynchronize();\n",
    "\n",
    "    std::cout << \"Hello, World from the CPU!\" << std::endl;\n",
    "    \n",
    "    return 0;\n",
    "}"
   ]
  },
  {
   "cell_type": "code",
   "execution_count": null,
   "metadata": {},
   "outputs": [],
   "source": []
  }
 ],
 "metadata": {
  "kernelspec": {
   "display_name": "llm-finetune",
   "language": "python",
   "name": "python3"
  },
  "language_info": {
   "codemirror_mode": {
    "name": "ipython",
    "version": 3
   },
   "file_extension": ".py",
   "mimetype": "text/x-python",
   "name": "python",
   "nbconvert_exporter": "python",
   "pygments_lexer": "ipython3",
   "version": "3.12.1"
  }
 },
 "nbformat": 4,
 "nbformat_minor": 2
}
